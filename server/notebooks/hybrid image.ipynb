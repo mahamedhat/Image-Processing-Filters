{
 "cells": [
  {
   "cell_type": "code",
   "execution_count": 17,
   "id": "9d1c2801",
   "metadata": {},
   "outputs": [],
   "source": [
    "import cv2\n",
    "import numpy as np\n",
    "import click\n",
    "import matplotlib.pyplot as plt\n",
    "import sys\n",
    "from scipy import ndimage\n",
    "from skimage import io\n",
    "from scipy import ndimage"
   ]
  },
  {
   "cell_type": "code",
   "execution_count": 2,
   "id": "6d4272cc",
   "metadata": {},
   "outputs": [],
   "source": [
    "def convolution(img, kernel):\n",
    "    \"\"\" This function executes the convolution between `img` and `kernel`.\n",
    "    \"\"\"\n",
    "    print(\"[{}]\\tRunning convolution...\\n\".format(img))\n",
    "    # Load the image.\n",
    "    image = cv2.imread(img)\n",
    "    # Flip template before convolution.\n",
    "    kernel = cv2.flip(kernel, -1)\n",
    "    # Get size of image and kernel. 3rd value of shape is colour channel.\n",
    "    (image_h, image_w) = image.shape[:2]\n",
    "    (kernel_h, kernel_w) = kernel.shape[:2]\n",
    "    (pad_h, pad_w) = (kernel_h // 2, kernel_w // 2)\n",
    "    # Create image to write to.\n",
    "    output = np.zeros(image.shape)\n",
    "    # Slide kernel across every pixel.\n",
    "    for y in range(pad_h, image_h - pad_h):\n",
    "        for x in range(pad_w, image_w - pad_w):\n",
    "            # If coloured, loop for colours.\n",
    "            for colour in range(image.shape[2]):\n",
    "                # Get center pixel.\n",
    "                center = image[\n",
    "                    y - pad_h : y + pad_h + 1, x - pad_w : x + pad_w + 1, colour\n",
    "                ]\n",
    "                # Perform convolution and map value to [0, 255].\n",
    "                # Write back value to output image.\n",
    "                output[y, x, colour] = (center * kernel).sum() / 255\n",
    "\n",
    "    # Return the result of the convolution.\n",
    "    return output\n"
   ]
  },
  {
   "cell_type": "code",
   "execution_count": 3,
   "id": "293ec287",
   "metadata": {},
   "outputs": [
    {
     "name": "stdout",
     "output_type": "stream",
     "text": [
      "[C:/Users/ameer/Downloads/hybrid-images/data/cat.bmp]\tRunning convolution...\n",
      "\n"
     ]
    },
    {
     "data": {
      "text/plain": [
       "array([[[ 0.        ,  0.        ,  0.        ],\n",
       "        [ 0.        ,  0.        ,  0.        ],\n",
       "        [ 0.        ,  0.        ,  0.        ],\n",
       "        ...,\n",
       "        [ 0.        ,  0.        ,  0.        ],\n",
       "        [ 0.        ,  0.        ,  0.        ],\n",
       "        [ 0.        ,  0.        ,  0.        ]],\n",
       "\n",
       "       [[ 0.        ,  0.        ,  0.        ],\n",
       "        [ 0.05490196,  0.08627451,  0.01960784],\n",
       "        [-0.1254902 , -0.07058824,  0.01568627],\n",
       "        ...,\n",
       "        [ 0.02745098,  0.00784314,  0.01960784],\n",
       "        [ 0.08235294,  0.09411765,  0.02352941],\n",
       "        [ 0.        ,  0.        ,  0.        ]],\n",
       "\n",
       "       [[ 0.        ,  0.        ,  0.        ],\n",
       "        [ 0.05098039,  0.05882353,  0.1254902 ],\n",
       "        [-0.04313725, -0.02352941,  0.00784314],\n",
       "        ...,\n",
       "        [ 0.03529412,  0.        ,  0.01176471],\n",
       "        [ 0.07843137,  0.05490196,  0.04705882],\n",
       "        [ 0.        ,  0.        ,  0.        ]],\n",
       "\n",
       "       ...,\n",
       "\n",
       "       [[ 0.        ,  0.        ,  0.        ],\n",
       "        [ 0.19607843,  0.18823529,  0.2       ],\n",
       "        [ 0.09411765,  0.08627451,  0.1254902 ],\n",
       "        ...,\n",
       "        [-0.05490196, -0.07058824, -0.01568627],\n",
       "        [-0.09803922, -0.12156863,  0.00392157],\n",
       "        [ 0.        ,  0.        ,  0.        ]],\n",
       "\n",
       "       [[ 0.        ,  0.        ,  0.        ],\n",
       "        [ 0.15294118,  0.18039216,  0.18431373],\n",
       "        [ 0.05098039,  0.03137255, -0.01568627],\n",
       "        ...,\n",
       "        [-0.09803922, -0.14117647, -0.07843137],\n",
       "        [-0.0745098 , -0.09019608, -0.08627451],\n",
       "        [ 0.        ,  0.        ,  0.        ]],\n",
       "\n",
       "       [[ 0.        ,  0.        ,  0.        ],\n",
       "        [ 0.        ,  0.        ,  0.        ],\n",
       "        [ 0.        ,  0.        ,  0.        ],\n",
       "        ...,\n",
       "        [ 0.        ,  0.        ,  0.        ],\n",
       "        [ 0.        ,  0.        ,  0.        ],\n",
       "        [ 0.        ,  0.        ,  0.        ]]])"
      ]
     },
     "execution_count": 3,
     "metadata": {},
     "output_type": "execute_result"
    }
   ],
   "source": [
    "img = 'C:/Users/ameer/Downloads/hybrid-images/data/cat.bmp'\n",
    "kernel = np.array([[-1, -1, -1], [-1, 8, -1], [-1, -1, -1]])\n",
    "convolution(img, kernel)"
   ]
  },
  {
   "cell_type": "code",
   "execution_count": 5,
   "id": "c214e77f",
   "metadata": {},
   "outputs": [],
   "source": [
    "def fourier(img, kernel):\n",
    "    \"\"\" Compute convolution between `img` and `kernel` using numpy's FFT.\n",
    "    \"\"\"\n",
    "    # Load the image.\n",
    "    image = cv2.imread(img)\n",
    "    # Get size of image and kernel.\n",
    "    (image_h, image_w) = image.shape[:2]\n",
    "    (kernel_h, kernel_w) = kernel.shape[:2]\n",
    "    # Apply padding to the kernel.\n",
    "    padded_kernel = np.zeros(image.shape[:2])\n",
    "    start_h = (image_h - kernel_h) // 2\n",
    "    start_w = (image_w - kernel_w) // 2\n",
    "    padded_kernel[start_h : start_h + kernel_h, start_w : start_w + kernel_w] = kernel\n",
    "    # Create image to write to.\n",
    "    output = np.zeros(image.shape)\n",
    "    # Run FFT on all 3 channels.\n",
    "    for colour in range(3):\n",
    "        Fi = np.fft.fft2(image[:, :, colour])\n",
    "        Fk = np.fft.fft2(padded_kernel)\n",
    "        # Inverse fourier.\n",
    "        output[:, :, colour] = np.fft.fftshift(np.fft.ifft2(Fi * Fk)) / 255\n",
    "\n",
    "    # Return the result of convolution.\n",
    "    return output"
   ]
  },
  {
   "cell_type": "code",
   "execution_count": 6,
   "id": "29d110bb",
   "metadata": {},
   "outputs": [
    {
     "name": "stderr",
     "output_type": "stream",
     "text": [
      "C:\\Users\\ameer\\AppData\\Local\\Temp\\ipykernel_36872\\1634469265.py:21: ComplexWarning: Casting complex values to real discards the imaginary part\n",
      "  output[:, :, colour] = np.fft.fftshift(np.fft.ifft2(Fi * Fk)) / 255\n"
     ]
    },
    {
     "data": {
      "text/plain": [
       "array([[[ 0.05490196,  0.08627451,  0.01960784],\n",
       "        [-0.1254902 , -0.07058824,  0.01568627],\n",
       "        [-0.00784314, -0.07058824, -0.01568627],\n",
       "        ...,\n",
       "        [ 0.08235294,  0.09411765,  0.02352941],\n",
       "        [ 0.54509804,  0.23529412,  0.0745098 ],\n",
       "        [-0.09019608,  0.09411765,  0.10196078]],\n",
       "\n",
       "       [[ 0.05098039,  0.05882353,  0.1254902 ],\n",
       "        [-0.04313725, -0.02352941,  0.00784314],\n",
       "        [ 0.01176471, -0.01568627,  0.00784314],\n",
       "        ...,\n",
       "        [ 0.07843137,  0.05490196,  0.04705882],\n",
       "        [ 0.38039216,  0.15686275,  0.0627451 ],\n",
       "        [ 0.07058824,  0.18823529,  0.23921569]],\n",
       "\n",
       "       [[ 0.10980392,  0.08235294,  0.03921569],\n",
       "        [-0.05882353, -0.0745098 , -0.0627451 ],\n",
       "        [-0.03529412, -0.0745098 , -0.07843137],\n",
       "        ...,\n",
       "        [ 0.08627451,  0.07843137,  0.03137255],\n",
       "        [ 0.30588235,  0.10980392,  0.00784314],\n",
       "        [ 0.14509804,  0.23137255,  0.17647059]],\n",
       "\n",
       "       ...,\n",
       "\n",
       "       [[ 0.15294118,  0.18039216,  0.18431373],\n",
       "        [ 0.05098039,  0.03137255, -0.01568627],\n",
       "        [-0.05882353, -0.08235294, -0.0745098 ],\n",
       "        ...,\n",
       "        [-0.0745098 , -0.09019608, -0.08627451],\n",
       "        [ 0.58431373,  1.32941176,  2.01960784],\n",
       "        [-1.13333333, -1.9254902 , -2.56470588]],\n",
       "\n",
       "       [[-0.19607843, -0.83921569, -1.40784314],\n",
       "        [ 0.28627451, -0.48627451, -1.12941176],\n",
       "        [ 0.68627451, -0.17647059, -0.89411765],\n",
       "        ...,\n",
       "        [-0.78431373, -0.31372549, -0.08627451],\n",
       "        [-0.17254902,  0.7254902 ,  1.40392157],\n",
       "        [-1.78431373, -2.80392157, -3.71764706]],\n",
       "\n",
       "       [[ 0.16078431,  0.88235294,  1.46666667],\n",
       "        [-0.57254902,  0.38823529,  1.0745098 ],\n",
       "        [-0.82352941,  0.03921569,  0.70588235],\n",
       "        ...,\n",
       "        [ 0.91764706,  0.43137255,  0.14117647],\n",
       "        [ 1.60784314,  1.0627451 ,  0.84705882],\n",
       "        [ 0.26666667,  0.83529412,  1.10588235]]])"
      ]
     },
     "execution_count": 6,
     "metadata": {},
     "output_type": "execute_result"
    }
   ],
   "source": [
    "# img = 'C:/Users/ameer/Downloads/hybrid-images/data/cat.bmp'\n",
    "# kernel = np.array([[-1, -1, -1], [-1, 8, -1], [-1, -1, -1]])\n",
    "fourier(img, kernel)"
   ]
  },
  {
   "cell_type": "code",
   "execution_count": 22,
   "id": "e730a237",
   "metadata": {},
   "outputs": [],
   "source": [
    "def gaussian_blur(image, sigma, flag):\n",
    "    \"\"\" Builds a Gaussian kernel used to perform the LPF on an image.\n",
    "    \"\"\"\n",
    "    print(\"[{}]\\tCalculating Gaussian kernel...\".format(image))\n",
    "\n",
    "    # Calculate size of filter.\n",
    "    size = 8 * sigma + 1\n",
    "    if not size % 2:\n",
    "        size = size + 1\n",
    "\n",
    "    center = size // 2\n",
    "    kernel = np.zeros((size, size))\n",
    "\n",
    "    # Generate Gaussian blur.\n",
    "    for y in range(size):\n",
    "        for x in range(size):\n",
    "            diff = (y - center) ** 2 + (x - center) ** 2\n",
    "            kernel[y, x] = np.exp(-diff / (2 * sigma ** 2))\n",
    "\n",
    "    kernel = kernel / np.sum(kernel)\n",
    "\n",
    "    if flag:\n",
    "        return fourier(image, kernel)\n",
    "    else:\n",
    "        return convolution(image, kernel)\n"
   ]
  },
  {
   "cell_type": "code",
   "execution_count": 23,
   "id": "7f91e02f",
   "metadata": {},
   "outputs": [
    {
     "name": "stdout",
     "output_type": "stream",
     "text": [
      "[C:/Users/ameer/Downloads/hybrid-images/data/cat.bmp]\tCalculating Gaussian kernel...\n"
     ]
    },
    {
     "name": "stderr",
     "output_type": "stream",
     "text": [
      "C:\\Users\\ameer\\AppData\\Local\\Temp\\ipykernel_36872\\1634469265.py:21: ComplexWarning: Casting complex values to real discards the imaginary part\n",
      "  output[:, :, colour] = np.fft.fftshift(np.fft.ifft2(Fi * Fk)) / 255\n"
     ]
    },
    {
     "data": {
      "text/plain": [
       "array([[[0.42296948, 0.60894729, 0.76896906],\n",
       "        [0.33230261, 0.53721632, 0.72602237],\n",
       "        [0.2577579 , 0.47176422, 0.6855529 ],\n",
       "        ...,\n",
       "        [0.59754503, 0.71290475, 0.83411863],\n",
       "        [0.59308048, 0.71604814, 0.83446401],\n",
       "        [0.52074097, 0.67483162, 0.80822151]],\n",
       "\n",
       "       [[0.46396772, 0.64759632, 0.81191129],\n",
       "        [0.3619418 , 0.56699772, 0.76192846],\n",
       "        [0.27217589, 0.49090605, 0.71340693],\n",
       "        ...,\n",
       "        [0.61502873, 0.72556613, 0.84000756],\n",
       "        [0.62016713, 0.73920595, 0.85414386],\n",
       "        [0.56093768, 0.71178586, 0.8463602 ]],\n",
       "\n",
       "       [[0.49475345, 0.66895903, 0.82577451],\n",
       "        [0.38974279, 0.58785926, 0.7742978 ],\n",
       "        [0.29150975, 0.50803405, 0.723401  ],\n",
       "        ...,\n",
       "        [0.62056873, 0.73223009, 0.84207602],\n",
       "        [0.63251045, 0.74960476, 0.86008736],\n",
       "        [0.5852898 , 0.72899971, 0.85796856]],\n",
       "\n",
       "       ...,\n",
       "\n",
       "       [[0.34186221, 0.35835162, 0.37316558],\n",
       "        [0.40677068, 0.40905504, 0.4120824 ],\n",
       "        [0.45160034, 0.45039505, 0.45217498],\n",
       "        ...,\n",
       "        [0.35639268, 0.5787219 , 0.77927641],\n",
       "        [0.33113307, 0.49696878, 0.64524418],\n",
       "        [0.30522357, 0.37811839, 0.44319126]],\n",
       "\n",
       "       [[0.3368551 , 0.40387496, 0.45787864],\n",
       "        [0.35831697, 0.4193878 , 0.47304442],\n",
       "        [0.3740668 , 0.43308139, 0.49305363],\n",
       "        ...,\n",
       "        [0.42289828, 0.61551621, 0.79275462],\n",
       "        [0.3978459 , 0.55225681, 0.69063888],\n",
       "        [0.34627715, 0.44413786, 0.52677963]],\n",
       "\n",
       "       [[0.37402553, 0.52036936, 0.64124279],\n",
       "        [0.32604132, 0.48215898, 0.62075488],\n",
       "        [0.28866471, 0.44831235, 0.60454435],\n",
       "        ...,\n",
       "        [0.53151303, 0.67530804, 0.81765229],\n",
       "        [0.515371  , 0.65054319, 0.77636962],\n",
       "        [0.4430887 , 0.5791788 , 0.69378175]]])"
      ]
     },
     "execution_count": 23,
     "metadata": {},
     "output_type": "execute_result"
    }
   ],
   "source": [
    "gaussian_blur(img, 1, 1)"
   ]
  },
  {
   "cell_type": "code",
   "execution_count": 31,
   "id": "eef7ab4b",
   "metadata": {},
   "outputs": [],
   "source": [
    "def low_pass(image, cutoff, flag):\n",
    "    \"\"\" Generate low pass filter of image.\n",
    "    \"\"\"\n",
    "    print(\"[{}]\\tGenerating low pass image...\".format(image))\n",
    "    return gaussian_blur(image, cutoff, flag)\n"
   ]
  },
  {
   "cell_type": "code",
   "execution_count": 32,
   "id": "b637242f",
   "metadata": {},
   "outputs": [
    {
     "name": "stdout",
     "output_type": "stream",
     "text": [
      "[C:/Users/ameer/Downloads/hybrid-images/data/cat.bmp]\tGenerating low pass image...\n",
      "[C:/Users/ameer/Downloads/hybrid-images/data/cat.bmp]\tCalculating Gaussian kernel...\n"
     ]
    },
    {
     "ename": "ValueError",
     "evalue": "could not broadcast input array from shape (401,401) into shape (20,401)",
     "output_type": "error",
     "traceback": [
      "\u001b[1;31m---------------------------------------------------------------------------\u001b[0m",
      "\u001b[1;31mValueError\u001b[0m                                Traceback (most recent call last)",
      "Cell \u001b[1;32mIn [32], line 2\u001b[0m\n\u001b[0;32m      1\u001b[0m image \u001b[38;5;241m=\u001b[39m \u001b[38;5;124m'\u001b[39m\u001b[38;5;124mC:/Users/ameer/Downloads/hybrid-images/data/cat.bmp\u001b[39m\u001b[38;5;124m'\u001b[39m\n\u001b[1;32m----> 2\u001b[0m \u001b[43mlow_pass\u001b[49m\u001b[43m(\u001b[49m\u001b[43mimage\u001b[49m\u001b[43m,\u001b[49m\u001b[43m \u001b[49m\u001b[38;5;241;43m50\u001b[39;49m\u001b[43m,\u001b[49m\u001b[43m \u001b[49m\u001b[38;5;241;43m1\u001b[39;49m\u001b[43m)\u001b[49m\n",
      "Cell \u001b[1;32mIn [31], line 5\u001b[0m, in \u001b[0;36mlow_pass\u001b[1;34m(image, cutoff, flag)\u001b[0m\n\u001b[0;32m      2\u001b[0m \u001b[38;5;124;03m\"\"\" Generate low pass filter of image.\u001b[39;00m\n\u001b[0;32m      3\u001b[0m \u001b[38;5;124;03m\"\"\"\u001b[39;00m\n\u001b[0;32m      4\u001b[0m \u001b[38;5;28mprint\u001b[39m(\u001b[38;5;124m\"\u001b[39m\u001b[38;5;124m[\u001b[39m\u001b[38;5;132;01m{}\u001b[39;00m\u001b[38;5;124m]\u001b[39m\u001b[38;5;130;01m\\t\u001b[39;00m\u001b[38;5;124mGenerating low pass image...\u001b[39m\u001b[38;5;124m\"\u001b[39m\u001b[38;5;241m.\u001b[39mformat(image))\n\u001b[1;32m----> 5\u001b[0m \u001b[38;5;28;01mreturn\u001b[39;00m \u001b[43mgaussian_blur\u001b[49m\u001b[43m(\u001b[49m\u001b[43mimage\u001b[49m\u001b[43m,\u001b[49m\u001b[43m \u001b[49m\u001b[43mcutoff\u001b[49m\u001b[43m,\u001b[49m\u001b[43m \u001b[49m\u001b[43mflag\u001b[49m\u001b[43m)\u001b[49m\n",
      "Cell \u001b[1;32mIn [22], line 23\u001b[0m, in \u001b[0;36mgaussian_blur\u001b[1;34m(image, sigma, flag)\u001b[0m\n\u001b[0;32m     20\u001b[0m kernel \u001b[38;5;241m=\u001b[39m kernel \u001b[38;5;241m/\u001b[39m np\u001b[38;5;241m.\u001b[39msum(kernel)\n\u001b[0;32m     22\u001b[0m \u001b[38;5;28;01mif\u001b[39;00m flag:\n\u001b[1;32m---> 23\u001b[0m     \u001b[38;5;28;01mreturn\u001b[39;00m \u001b[43mfourier\u001b[49m\u001b[43m(\u001b[49m\u001b[43mimage\u001b[49m\u001b[43m,\u001b[49m\u001b[43m \u001b[49m\u001b[43mkernel\u001b[49m\u001b[43m)\u001b[49m\n\u001b[0;32m     24\u001b[0m \u001b[38;5;28;01melse\u001b[39;00m:\n\u001b[0;32m     25\u001b[0m     \u001b[38;5;28;01mreturn\u001b[39;00m convolution(image, kernel)\n",
      "Cell \u001b[1;32mIn [5], line 13\u001b[0m, in \u001b[0;36mfourier\u001b[1;34m(img, kernel)\u001b[0m\n\u001b[0;32m     11\u001b[0m start_h \u001b[38;5;241m=\u001b[39m (image_h \u001b[38;5;241m-\u001b[39m kernel_h) \u001b[38;5;241m/\u001b[39m\u001b[38;5;241m/\u001b[39m \u001b[38;5;241m2\u001b[39m\n\u001b[0;32m     12\u001b[0m start_w \u001b[38;5;241m=\u001b[39m (image_w \u001b[38;5;241m-\u001b[39m kernel_w) \u001b[38;5;241m/\u001b[39m\u001b[38;5;241m/\u001b[39m \u001b[38;5;241m2\u001b[39m\n\u001b[1;32m---> 13\u001b[0m \u001b[43mpadded_kernel\u001b[49m\u001b[43m[\u001b[49m\u001b[43mstart_h\u001b[49m\u001b[43m \u001b[49m\u001b[43m:\u001b[49m\u001b[43m \u001b[49m\u001b[43mstart_h\u001b[49m\u001b[43m \u001b[49m\u001b[38;5;241;43m+\u001b[39;49m\u001b[43m \u001b[49m\u001b[43mkernel_h\u001b[49m\u001b[43m,\u001b[49m\u001b[43m \u001b[49m\u001b[43mstart_w\u001b[49m\u001b[43m \u001b[49m\u001b[43m:\u001b[49m\u001b[43m \u001b[49m\u001b[43mstart_w\u001b[49m\u001b[43m \u001b[49m\u001b[38;5;241;43m+\u001b[39;49m\u001b[43m \u001b[49m\u001b[43mkernel_w\u001b[49m\u001b[43m]\u001b[49m \u001b[38;5;241m=\u001b[39m kernel\n\u001b[0;32m     14\u001b[0m \u001b[38;5;66;03m# Create image to write to.\u001b[39;00m\n\u001b[0;32m     15\u001b[0m output \u001b[38;5;241m=\u001b[39m np\u001b[38;5;241m.\u001b[39mzeros(image\u001b[38;5;241m.\u001b[39mshape)\n",
      "\u001b[1;31mValueError\u001b[0m: could not broadcast input array from shape (401,401) into shape (20,401)"
     ]
    }
   ],
   "source": [
    "image = 'C:/Users/ameer/Downloads/hybrid-images/data/cat.bmp'\n",
    "low_pass(image, 50, 1)"
   ]
  },
  {
   "cell_type": "code",
   "execution_count": 28,
   "id": "9839eb69",
   "metadata": {},
   "outputs": [],
   "source": [
    "def high_pass(image, cutoff, flag):\n",
    "    \"\"\" Generate high pass filter of image. This is simply the image minus its\n",
    "    low passed result.\n",
    "    \"\"\"\n",
    "    print(\"[{}]\\tGenerating high pass image...\".format(image))\n",
    "    return (cv2.imread(image) / 255) - low_pass(image, cutoff, flag)\n",
    "\n"
   ]
  },
  {
   "cell_type": "code",
   "execution_count": 29,
   "id": "436c0590",
   "metadata": {},
   "outputs": [],
   "source": [
    "def hybrid_image(image, cutoff, flag):\n",
    "    \"\"\" Create a hybrid image by summing together the low and high frequency\n",
    "    images.\n",
    "    \"\"\"\n",
    "    # Perform low pass filter and export.\n",
    "    low = low_pass(image[0], cutoff[0], fourier)\n",
    "    cv2.imwrite(\"low.jpg\", low * 255)\n",
    "    # Perform high pass filter and export.\n",
    "    high = high_pass(image[1], cutoff[1], fourier)\n",
    "    cv2.imwrite(\"high.jpg\", (high + 0.5) * 255)\n",
    "\n",
    "    print(\"Creating hybrid image...\")\n",
    "    return low + high\n"
   ]
  },
  {
   "cell_type": "code",
   "execution_count": null,
   "id": "a03416ed",
   "metadata": {},
   "outputs": [],
   "source": [
    "hybrid_image(image, cutoff, flag)"
   ]
  },
  {
   "cell_type": "code",
   "execution_count": null,
   "id": "bd942dba",
   "metadata": {},
   "outputs": [],
   "source": [
    "# def output_vis(image):\n",
    "#     \"\"\" Display hybrid image comparison for report. Visualisation shows 5 images\n",
    "#     reducing in size to simulate viewing the image from a distance.\n",
    "#     \"\"\"\n",
    "#     print(\"Creating visualisation...\")\n",
    "\n",
    "#     num = 5  # Number of images to display.\n",
    "#     gap = 2  # Gap between images (px).\n",
    "\n",
    "#     # Create list of images.\n",
    "#     image_list = [image]\n",
    "#     max_height = image.shape[0]\n",
    "#     max_width = image.shape[1]\n",
    "\n",
    "#     # Add images to list and increase max width.\n",
    "#     for i in range(1, num):\n",
    "#         tmp = cv2.resize(image, (0, 0), fx=0.5 ** i, fy=0.5 ** i)\n",
    "#         max_width += tmp.shape[1] + gap\n",
    "#         image_list.append(tmp)\n",
    "\n",
    "#     # Create space for image stack.\n",
    "#     stack = np.ones((max_height, max_width, 3)) * 255\n",
    "\n",
    "#     # Add images to stack.\n",
    "#     current_x = 0\n",
    "#     for img in image_list:\n",
    "#         stack[\n",
    "#             max_height - img.shape[0] :, current_x : img.shape[1] + current_x, :\n",
    "#         ] = img\n",
    "#         current_x += img.shape[1] + gap\n",
    "\n",
    "#     return stack"
   ]
  }
 ],
 "metadata": {
  "kernelspec": {
   "display_name": "Python 3 (ipykernel)",
   "language": "python",
   "name": "python3"
  },
  "language_info": {
   "codemirror_mode": {
    "name": "ipython",
    "version": 3
   },
   "file_extension": ".py",
   "mimetype": "text/x-python",
   "name": "python",
   "nbconvert_exporter": "python",
   "pygments_lexer": "ipython3",
   "version": "3.9.12"
  }
 },
 "nbformat": 4,
 "nbformat_minor": 5
}
